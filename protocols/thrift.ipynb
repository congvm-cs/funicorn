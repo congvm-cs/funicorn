{
 "cells": [
  {
   "cell_type": "code",
   "execution_count": 1,
   "metadata": {},
   "outputs": [],
   "source": [
    "import thrift\n",
    "import sys\n",
    "import pprint\n",
    "if sys.version_info[0] > 2:\n",
    "    from urllib.parse import urlparse\n",
    "else:\n",
    "    from urlparse import urlparse\n",
    "from thrift.transport import TTransport, TSocket, TSSLSocket, THttpClient\n",
    "from thrift.protocol.TBinaryProtocol import TBinaryProtocol\n",
    "\n",
    "from rpc_client.funicorn import FunicornService\n",
    "from rpc_client.funicorn.ttypes import *\n",
    "import numpy as np\n",
    "import cv2\n",
    "import sys"
   ]
  },
  {
   "cell_type": "code",
   "execution_count": 2,
   "metadata": {},
   "outputs": [],
   "source": [
    "pp = pprint.PrettyPrinter(indent=2)\n",
    "host = '0.0.0.0'\n",
    "port = 8001\n",
    "framed = True\n",
    "\n",
    "socket = TSocket.TSocket(host, port)\n",
    "transport = TTransport.TFramedTransport(socket)\n",
    "protocol = TBinaryProtocol(transport)\n",
    "client = FunicornService.Client(protocol)"
   ]
  },
  {
   "cell_type": "code",
   "execution_count": 78,
   "metadata": {},
   "outputs": [],
   "source": [
    "def predict_img_bytes(img_bytes):\n",
    "    transport.open()\n",
    "    ret = None\n",
    "    try:\n",
    "        ret = client.predict_img_bytes(img_bytes)\n",
    "    except Exception as e:\n",
    "        print(e)\n",
    "    finally:\n",
    "        transport.close()\n",
    "    return ret\n",
    "\n",
    "def ping():\n",
    "    transport.open()\n",
    "    try:\n",
    "        client.ping()\n",
    "    except Exception as e:\n",
    "        print(e)\n",
    "    finally:\n",
    "        transport.close()\n",
    "        \n",
    "        \n",
    "def get_byte_size(img_bytes):\n",
    "    print(sys.getsizeof(img_bytes)/(1024))"
   ]
  },
  {
   "cell_type": "code",
   "execution_count": 4,
   "metadata": {},
   "outputs": [],
   "source": [
    "ping()"
   ]
  },
  {
   "cell_type": "code",
   "execution_count": 81,
   "metadata": {},
   "outputs": [],
   "source": [
    "img_arr = cv2.imread('/home/lap13607-local/Downloads/277ac2725cd1b68fefc0.jpg')\n",
    "# img_arr = np.ones(shape=(640, 480, 3), dtype=np.uint8)\n",
    "# img_arr = np.ones(shape=(1280*2, 720*2, 3), dtype=np.uint8)\n",
    "# img_arr = cv2.resize(img_arr, (640, 480))\n",
    "ret, img_flatten = cv2.imencode('.jpg', img_arr, params= [cv2.IMWRITE_JPEG_QUALITY, 70])\n",
    "img_bytes = img_flatten.tobytes()"
   ]
  },
  {
   "cell_type": "code",
   "execution_count": 82,
   "metadata": {},
   "outputs": [
    {
     "data": {
      "text/plain": [
       "(1280, 960, 3)"
      ]
     },
     "execution_count": 82,
     "metadata": {},
     "output_type": "execute_result"
    }
   ],
   "source": [
    "img_arr.shape"
   ]
  },
  {
   "cell_type": "code",
   "execution_count": 83,
   "metadata": {},
   "outputs": [
    {
     "name": "stdout",
     "output_type": "stream",
     "text": [
      "135.6982421875\n"
     ]
    }
   ],
   "source": [
    "print(sys.getsizeof(img_bytes)/(1024))"
   ]
  },
  {
   "cell_type": "code",
   "execution_count": 37,
   "metadata": {},
   "outputs": [],
   "source": [
    "img_flatten = np.frombuffer(img_bytes, dtype=np.uint8)"
   ]
  },
  {
   "cell_type": "code",
   "execution_count": 38,
   "metadata": {},
   "outputs": [
    {
     "data": {
      "text/plain": [
       "array([255, 216, 255, ..., 163, 255, 217], dtype=uint8)"
      ]
     },
     "execution_count": 38,
     "metadata": {},
     "output_type": "execute_result"
    }
   ],
   "source": [
    "img_flatten"
   ]
  },
  {
   "cell_type": "code",
   "execution_count": 39,
   "metadata": {},
   "outputs": [],
   "source": [
    "img_arr_decoded = cv2.imdecode(img_flatten, cv2.IMREAD_ANYCOLOR)"
   ]
  },
  {
   "cell_type": "code",
   "execution_count": 40,
   "metadata": {},
   "outputs": [
    {
     "data": {
      "text/plain": [
       "(480, 640, 3)"
      ]
     },
     "execution_count": 40,
     "metadata": {},
     "output_type": "execute_result"
    }
   ],
   "source": [
    "img_arr_decoded.shape"
   ]
  },
  {
   "cell_type": "code",
   "execution_count": null,
   "metadata": {},
   "outputs": [],
   "source": []
  },
  {
   "cell_type": "code",
   "execution_count": 92,
   "metadata": {},
   "outputs": [
    {
     "name": "stdout",
     "output_type": "stream",
     "text": [
      "45.2 ms ± 2.12 ms per loop (mean ± std. dev. of 7 runs, 10 loops each)\n"
     ]
    }
   ],
   "source": [
    "%timeit predict_img_bytes(img_bytes)"
   ]
  },
  {
   "cell_type": "code",
   "execution_count": 14,
   "metadata": {},
   "outputs": [
    {
     "data": {
      "text/plain": [
       "5427"
      ]
     },
     "execution_count": 14,
     "metadata": {},
     "output_type": "execute_result"
    }
   ],
   "source": [
    "len(img_bytes)"
   ]
  },
  {
   "cell_type": "code",
   "execution_count": null,
   "metadata": {},
   "outputs": [],
   "source": []
  },
  {
   "cell_type": "code",
   "execution_count": 131,
   "metadata": {},
   "outputs": [
    {
     "name": "stdout",
     "output_type": "stream",
     "text": [
      "4.39 ms ± 508 µs per loop (mean ± std. dev. of 7 runs, 100 loops each)\n"
     ]
    }
   ],
   "source": [
    "%timeit ret, img_flatten = cv2.imencode('.jpg', img_arr)"
   ]
  },
  {
   "cell_type": "code",
   "execution_count": 132,
   "metadata": {},
   "outputs": [],
   "source": [
    "# ~20ms"
   ]
  },
  {
   "cell_type": "code",
   "execution_count": null,
   "metadata": {},
   "outputs": [],
   "source": []
  },
  {
   "cell_type": "code",
   "execution_count": null,
   "metadata": {},
   "outputs": [],
   "source": []
  },
  {
   "cell_type": "code",
   "execution_count": 76,
   "metadata": {},
   "outputs": [],
   "source": [
    "import pickle"
   ]
  },
  {
   "cell_type": "code",
   "execution_count": 77,
   "metadata": {},
   "outputs": [],
   "source": [
    "img_bytes = pickle.dumps(img_arr)"
   ]
  },
  {
   "cell_type": "code",
   "execution_count": 79,
   "metadata": {},
   "outputs": [
    {
     "name": "stdout",
     "output_type": "stream",
     "text": [
      "3600.1923828125\n"
     ]
    }
   ],
   "source": [
    "get_byte_size(img_bytes)"
   ]
  },
  {
   "cell_type": "code",
   "execution_count": null,
   "metadata": {},
   "outputs": [],
   "source": []
  }
 ],
 "metadata": {
  "kernelspec": {
   "display_name": "Python 3",
   "language": "python",
   "name": "python3"
  },
  "language_info": {
   "codemirror_mode": {
    "name": "ipython",
    "version": 3
   },
   "file_extension": ".py",
   "mimetype": "text/x-python",
   "name": "python",
   "nbconvert_exporter": "python",
   "pygments_lexer": "ipython3",
   "version": "3.7.5"
  }
 },
 "nbformat": 4,
 "nbformat_minor": 4
}
