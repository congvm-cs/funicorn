{
 "cells": [
  {
   "cell_type": "code",
   "execution_count": 4,
   "metadata": {},
   "outputs": [
    {
     "name": "stdout",
     "output_type": "stream",
     "text": [
      "Collecting thriftpy2\n",
      "  Downloading thriftpy2-0.4.11.tar.gz (498 kB)\n",
      "\u001b[K     |████████████████████████████████| 498 kB 3.7 kB/s eta 0:00:024\n",
      "\u001b[?25hCollecting ply<4.0,>=3.4\n",
      "  Using cached ply-3.11-py2.py3-none-any.whl (49 kB)\n",
      "Building wheels for collected packages: thriftpy2\n",
      "  Building wheel for thriftpy2 (setup.py) ... \u001b[?25ldone\n",
      "\u001b[?25h  Created wheel for thriftpy2: filename=thriftpy2-0.4.11-cp37-cp37m-macosx_10_15_x86_64.whl size=473593 sha256=86b44c8af85ae48fb3740b410f18091fc4ad1600b1202ad4e53695b7d30bf2b6\n",
      "  Stored in directory: /Users/congvo/Library/Caches/pip/wheels/9d/22/89/0c0cd719d0c396b0b962cae8b6ebf9c0f6ee9593b43ba598aa\n",
      "Successfully built thriftpy2\n",
      "Installing collected packages: ply, thriftpy2\n",
      "Successfully installed ply-3.11 thriftpy2-0.4.11\n",
      "\u001b[33mWARNING: You are using pip version 20.1; however, version 20.1.1 is available.\n",
      "You should consider upgrading via the '/Users/congvo/Workspace/funicorn/funicorn-env/bin/python3 -m pip install --upgrade pip' command.\u001b[0m\n"
     ]
    }
   ],
   "source": [
    "!pip install thriftpy2"
   ]
  },
  {
   "cell_type": "code",
   "execution_count": 11,
   "metadata": {},
   "outputs": [],
   "source": [
    "from ailabtools.ailab_multiprocessing import pool_worker\n",
    "from thriftpy2 import load\n",
    "from thriftpy2.rpc import client_context\n",
    "from thriftpy2.rpc import TBinaryProtocolFactory, \n",
    "from thrift.protocol import TBinaryProtocol\n",
    "from thrift.transport import TTransport\n",
    "import pickle\n",
    "import cv2"
   ]
  },
  {
   "cell_type": "code",
   "execution_count": 2,
   "metadata": {},
   "outputs": [],
   "source": [
    "img_arr = cv2.imread('/Users/congvo/Downloads/0-5a7sHMpoIqMB4QYo.png')"
   ]
  },
  {
   "cell_type": "code",
   "execution_count": 3,
   "metadata": {},
   "outputs": [],
   "source": [
    "module = load(path='../assets/funicorn.thrift')"
   ]
  },
  {
   "cell_type": "code",
   "execution_count": 12,
   "metadata": {},
   "outputs": [
    {
     "ename": "UnboundLocalError",
     "evalue": "local variable 'transport' referenced before assignment",
     "output_type": "error",
     "traceback": [
      "\u001b[0;31m----------------------------------------\u001b[0m",
      "\u001b[0;31mAttributeError\u001b[0mTraceback (most recent call last)",
      "\u001b[0;32m~/.virtualenvs/dl-py3/lib/python3.7/site-packages/thriftpy2-0.4.10-py3.7-macosx-10.15-x86_64.egg/thriftpy2/rpc.py\u001b[0m in \u001b[0;36mclient_context\u001b[0;34m(service, host, port, unix_socket, proto_factory, trans_factory, timeout, socket_timeout, connect_timeout, cafile, ssl_context, certfile, keyfile, url)\u001b[0m\n\u001b[1;32m    126\u001b[0m     \u001b[0;32mtry\u001b[0m\u001b[0;34m:\u001b[0m\u001b[0;34m\u001b[0m\u001b[0;34m\u001b[0m\u001b[0m\n\u001b[0;32m--> 127\u001b[0;31m         \u001b[0mtransport\u001b[0m \u001b[0;34m=\u001b[0m \u001b[0mtrans_factory\u001b[0m\u001b[0;34m.\u001b[0m\u001b[0mget_transport\u001b[0m\u001b[0;34m(\u001b[0m\u001b[0msocket\u001b[0m\u001b[0;34m)\u001b[0m\u001b[0;34m\u001b[0m\u001b[0;34m\u001b[0m\u001b[0m\n\u001b[0m\u001b[1;32m    128\u001b[0m         \u001b[0mprotocol\u001b[0m \u001b[0;34m=\u001b[0m \u001b[0mproto_factory\u001b[0m\u001b[0;34m.\u001b[0m\u001b[0mget_protocol\u001b[0m\u001b[0;34m(\u001b[0m\u001b[0mtransport\u001b[0m\u001b[0;34m)\u001b[0m\u001b[0;34m\u001b[0m\u001b[0;34m\u001b[0m\u001b[0m\n",
      "\u001b[0;31mAttributeError\u001b[0m: type object 'TFramedTransportFactory' has no attribute 'get_transport'",
      "\nDuring handling of the above exception, another exception occurred:\n",
      "\u001b[0;31mUnboundLocalError\u001b[0mTraceback (most recent call last)",
      "\u001b[0;32m<ipython-input-12-9c7b035ec8a2>\u001b[0m in \u001b[0;36m<module>\u001b[0;34m\u001b[0m\n\u001b[1;32m      1\u001b[0m with client_context(module.FunicornService, \n\u001b[1;32m      2\u001b[0m                \u001b[0mproto_factory\u001b[0m\u001b[0;34m=\u001b[0m\u001b[0mTBinaryProtocolFactory\u001b[0m\u001b[0;34m,\u001b[0m\u001b[0;34m\u001b[0m\u001b[0;34m\u001b[0m\u001b[0m\n\u001b[0;32m----> 3\u001b[0;31m                trans_factory=TTransport.TFramedTransportFactory, ) as cons:\n\u001b[0m\u001b[1;32m      4\u001b[0m     \u001b[0mcons\u001b[0m\u001b[0;34m.\u001b[0m\u001b[0mpredict_img_bytes\u001b[0m\u001b[0;34m(\u001b[0m\u001b[0mpickle\u001b[0m\u001b[0;34m.\u001b[0m\u001b[0mdumps\u001b[0m\u001b[0;34m(\u001b[0m\u001b[0mimg_arr\u001b[0m\u001b[0;34m)\u001b[0m\u001b[0;34m)\u001b[0m\u001b[0;34m\u001b[0m\u001b[0;34m\u001b[0m\u001b[0m\n",
      "\u001b[0;32m/usr/local/Cellar/python/3.7.6_1/Frameworks/Python.framework/Versions/3.7/lib/python3.7/contextlib.py\u001b[0m in \u001b[0;36m__enter__\u001b[0;34m(self)\u001b[0m\n\u001b[1;32m    110\u001b[0m         \u001b[0;32mdel\u001b[0m \u001b[0mself\u001b[0m\u001b[0;34m.\u001b[0m\u001b[0margs\u001b[0m\u001b[0;34m,\u001b[0m \u001b[0mself\u001b[0m\u001b[0;34m.\u001b[0m\u001b[0mkwds\u001b[0m\u001b[0;34m,\u001b[0m \u001b[0mself\u001b[0m\u001b[0;34m.\u001b[0m\u001b[0mfunc\u001b[0m\u001b[0;34m\u001b[0m\u001b[0;34m\u001b[0m\u001b[0m\n\u001b[1;32m    111\u001b[0m         \u001b[0;32mtry\u001b[0m\u001b[0;34m:\u001b[0m\u001b[0;34m\u001b[0m\u001b[0;34m\u001b[0m\u001b[0m\n\u001b[0;32m--> 112\u001b[0;31m             \u001b[0;32mreturn\u001b[0m \u001b[0mnext\u001b[0m\u001b[0;34m(\u001b[0m\u001b[0mself\u001b[0m\u001b[0;34m.\u001b[0m\u001b[0mgen\u001b[0m\u001b[0;34m)\u001b[0m\u001b[0;34m\u001b[0m\u001b[0;34m\u001b[0m\u001b[0m\n\u001b[0m\u001b[1;32m    113\u001b[0m         \u001b[0;32mexcept\u001b[0m \u001b[0mStopIteration\u001b[0m\u001b[0;34m:\u001b[0m\u001b[0;34m\u001b[0m\u001b[0;34m\u001b[0m\u001b[0m\n\u001b[1;32m    114\u001b[0m             \u001b[0;32mraise\u001b[0m \u001b[0mRuntimeError\u001b[0m\u001b[0;34m(\u001b[0m\u001b[0;34m\"generator didn't yield\"\u001b[0m\u001b[0;34m)\u001b[0m \u001b[0;32mfrom\u001b[0m \u001b[0;32mNone\u001b[0m\u001b[0;34m\u001b[0m\u001b[0;34m\u001b[0m\u001b[0m\n",
      "\u001b[0;32m~/.virtualenvs/dl-py3/lib/python3.7/site-packages/thriftpy2-0.4.10-py3.7-macosx-10.15-x86_64.egg/thriftpy2/rpc.py\u001b[0m in \u001b[0;36mclient_context\u001b[0;34m(service, host, port, unix_socket, proto_factory, trans_factory, timeout, socket_timeout, connect_timeout, cafile, ssl_context, certfile, keyfile, url)\u001b[0m\n\u001b[1;32m    131\u001b[0m \u001b[0;34m\u001b[0m\u001b[0m\n\u001b[1;32m    132\u001b[0m     \u001b[0;32mfinally\u001b[0m\u001b[0;34m:\u001b[0m\u001b[0;34m\u001b[0m\u001b[0;34m\u001b[0m\u001b[0m\n\u001b[0;32m--> 133\u001b[0;31m         \u001b[0mtransport\u001b[0m\u001b[0;34m.\u001b[0m\u001b[0mclose\u001b[0m\u001b[0;34m(\u001b[0m\u001b[0;34m)\u001b[0m\u001b[0;34m\u001b[0m\u001b[0;34m\u001b[0m\u001b[0m\n\u001b[0m\u001b[1;32m    134\u001b[0m \u001b[0;34m\u001b[0m\u001b[0m\n\u001b[1;32m    135\u001b[0m \u001b[0;34m\u001b[0m\u001b[0m\n",
      "\u001b[0;31mUnboundLocalError\u001b[0m: local variable 'transport' referenced before assignment"
     ]
    }
   ],
   "source": [
    "with client_context(module.FunicornService, \n",
    "               proto_factory=TBinaryProtocolFactory, \n",
    "               trans_factory=TTransport.TFramedTransportFactory, ) as cons:\n",
    "    cons.predict_img_bytes(pickle.dumps(img_arr))"
   ]
  },
  {
   "cell_type": "code",
   "execution_count": 10,
   "metadata": {},
   "outputs": [],
   "source": [
    "trans = TTransport.TFramedTransportFactory()"
   ]
  },
  {
   "cell_type": "code",
   "execution_count": null,
   "metadata": {},
   "outputs": [],
   "source": [
    "trans.getTransport"
   ]
  }
 ],
 "metadata": {
  "kernelspec": {
   "display_name": "Python 3",
   "language": "python",
   "name": "python3"
  },
  "language_info": {
   "codemirror_mode": {
    "name": "ipython",
    "version": 3
   },
   "file_extension": ".py",
   "mimetype": "text/x-python",
   "name": "python",
   "nbconvert_exporter": "python",
   "pygments_lexer": "ipython3",
   "version": "3.7.6"
  }
 },
 "nbformat": 4,
 "nbformat_minor": 4
}
