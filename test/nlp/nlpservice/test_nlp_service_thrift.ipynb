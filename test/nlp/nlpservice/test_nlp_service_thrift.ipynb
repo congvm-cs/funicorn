{
 "cells": [
  {
   "cell_type": "code",
   "execution_count": 3,
   "metadata": {},
   "outputs": [],
   "source": [
    "import thrift\n",
    "import sys\n",
    "import pprint\n",
    "if sys.version_info[0] > 2:\n",
    "    from urllib.parse import urlparse\n",
    "else:\n",
    "    from urlparse import urlparse\n",
    "from thrift.transport import TTransport, TSocket, TSSLSocket, THttpClient\n",
    "from thrift.protocol.TBinaryProtocol import TBinaryProtocol\n",
    "\n",
    "from nlpservice.NLPService import Client\n",
    "import numpy as np\n",
    "import cv2\n",
    "import sys"
   ]
  },
  {
   "cell_type": "code",
   "execution_count": 5,
   "metadata": {},
   "outputs": [],
   "source": [
    "pp = pprint.PrettyPrinter(indent=2)\n",
    "host = '0.0.0.0'\n",
    "port = 5001\n",
    "framed = True\n",
    "\n",
    "socket = TSocket.TSocket(host, port)\n",
    "transport = TTransport.TFramedTransport(socket)\n",
    "protocol = TBinaryProtocol(transport)\n",
    "client = Client(protocol)"
   ]
  },
  {
   "cell_type": "code",
   "execution_count": 16,
   "metadata": {},
   "outputs": [],
   "source": [
    "def nlp_encode(text):\n",
    "    transport.open()\n",
    "    ret = None\n",
    "    try:\n",
    "        ret = client.nlp_encode(text)\n",
    "    except Exception as e:\n",
    "        print(e)\n",
    "    finally:\n",
    "        transport.close()\n",
    "    return ret\n",
    "\n",
    "def ping():\n",
    "    transport.open()\n",
    "    try:\n",
    "        client.ping()\n",
    "    except Exception as e:\n",
    "        print(e)\n",
    "    finally:\n",
    "        transport.close()"
   ]
  },
  {
   "cell_type": "code",
   "execution_count": 27,
   "metadata": {},
   "outputs": [
    {
     "data": {
      "text/plain": [
       "'123123'"
      ]
     },
     "execution_count": 27,
     "metadata": {},
     "output_type": "execute_result"
    }
   ],
   "source": [
    "nlp_encode('123123')"
   ]
  },
  {
   "cell_type": "code",
   "execution_count": 24,
   "metadata": {},
   "outputs": [
    {
     "name": "stdout",
     "output_type": "stream",
     "text": [
      "1.09 ms ± 166 µs per loop (mean ± std. dev. of 7 runs, 1000 loops each)\n"
     ]
    }
   ],
   "source": [
    "%timeit nlp_encode('123123')"
   ]
  },
  {
   "cell_type": "code",
   "execution_count": null,
   "metadata": {},
   "outputs": [],
   "source": []
  }
 ],
 "metadata": {
  "kernelspec": {
   "display_name": "Python 3",
   "language": "python",
   "name": "python3"
  },
  "language_info": {
   "codemirror_mode": {
    "name": "ipython",
    "version": 3
   },
   "file_extension": ".py",
   "mimetype": "text/x-python",
   "name": "python",
   "nbconvert_exporter": "python",
   "pygments_lexer": "ipython3",
   "version": "3.7.6"
  }
 },
 "nbformat": 4,
 "nbformat_minor": 4
}
